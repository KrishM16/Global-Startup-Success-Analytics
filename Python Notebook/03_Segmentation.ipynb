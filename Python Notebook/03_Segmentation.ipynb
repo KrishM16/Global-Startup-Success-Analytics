# 03_Segmentation.ipynb

import pandas as pd
from sklearn.preprocessing import StandardScaler
from sklearn.cluster import KMeans

df = pd.read_csv('../data/startup_funding_cleaned.csv')

# Features for clustering
features = df[['Total Funding', 'Number of Founders']]

# Scale data
scaler = StandardScaler()
scaled_features = scaler.fit_transform(features)

# KMeans clustering
kmeans = KMeans(n_clusters=3, random_state=42)
df['Segment'] = kmeans.fit_predict(scaled_features)

# Analyze segments
print(df.groupby('Segment')['Total Funding'].mean())
