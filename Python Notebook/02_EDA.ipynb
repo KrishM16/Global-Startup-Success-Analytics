# 02_EDA.ipynb

import pandas as pd
import matplotlib.pyplot as plt
import seaborn as sns

df = pd.read_csv('../data/startup_funding_cleaned.csv')

# Funding trends by year
funding_by_year = df.groupby('Year')['Total Funding'].sum()
funding_by_year.plot(kind='line', title='Total Funding by Year')
plt.show()

# Top sectors
top_sectors = df.groupby('Sector')['Total Funding'].sum().sort_values(ascending=False).head(10)
top_sectors.plot(kind='bar', title='Top 10 Sectors by Funding')
plt.show()

# Scatter: Founders vs Funding
sns.scatterplot(data=df, x='Number of Founders', y='Total Funding')
plt.show()
