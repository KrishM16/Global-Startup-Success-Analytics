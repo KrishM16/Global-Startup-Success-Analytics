# 04_Predictive_Insights.ipynb

import pandas as pd
from statsmodels.tsa.holtwinters import ExponentialSmoothing

df = pd.read_csv('../data/startup_funding_cleaned.csv')

# Aggregate monthly funding (example)
df['Month'] = pd.to_datetime(df['Year'].astype(str) + '-01-01')
monthly_funding = df.groupby('Month')['Total Funding'].sum()

# Forecasting
model = ExponentialSmoothing(monthly_funding, trend='add', seasonal=None)
fit_model = model.fit()
forecast = fit_model.forecast(12)

# Plot forecast
import matplotlib.pyplot as plt
plt.plot(monthly_funding, label='Actual')
plt.plot(forecast, label='Forecast', linestyle='--')
plt.title('Monthly Funding Forecast')
plt.legend()
plt.show()
