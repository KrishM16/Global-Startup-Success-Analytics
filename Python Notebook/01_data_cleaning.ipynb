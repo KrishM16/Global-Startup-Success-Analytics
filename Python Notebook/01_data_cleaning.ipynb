# 01_data_cleaning.ipynb

import pandas as pd
import numpy as np

# Load dataset
df = pd.read_csv('../data/startup_funding.csv')

# Inspect data
print(df.info())
print(df.head())

# Handle missing values
df.dropna(subset=['Funding Amount', 'Sector', 'Country'], inplace=True)

# Remove duplicates
df.drop_duplicates(inplace=True)

# Feature engineering
df['Total Funding'] = df['Funding Amount']  # Example, adjust as needed
df['Number of Founders'] = df['Founders'].apply(lambda x: len(str(x).split(',')))

# Save cleaned dataset
df.to_csv('../data/startup_funding_cleaned.csv', index=False)
